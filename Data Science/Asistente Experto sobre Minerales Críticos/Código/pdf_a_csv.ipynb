{
  "cells": [
    {
      "cell_type": "markdown",
      "metadata": {
        "id": "view-in-github",
        "colab_type": "text"
      },
      "source": [
        "<a href=\"https://colab.research.google.com/github/Admindatosgobes/Laboratorio-de-Datos/blob/main/Data%20Science/Asistente%20Experto%20sobre%20Minerales%20Cr%C3%ADticos/C%C3%B3digo/pdf_a_csv.ipynb\" target=\"_parent\"><img src=\"https://colab.research.google.com/assets/colab-badge.svg\" alt=\"Open In Colab\"/></a>"
      ]
    },
    {
      "cell_type": "markdown",
      "source": [
        "# PDF a CSV"
      ],
      "metadata": {
        "id": "-V0P_SrMUFLO"
      },
      "id": "-V0P_SrMUFLO"
    },
    {
      "cell_type": "markdown",
      "source": [
        "Script Python para la extracción de datos del PDF de JRC desarrollado en plataforma Google Colab."
      ],
      "metadata": {
        "id": "E2WRfbJJT6pi"
      },
      "id": "E2WRfbJJT6pi"
    },
    {
      "cell_type": "code",
      "execution_count": null,
      "id": "d5589b39-66ca-484c-904e-a2f106ccdefb",
      "metadata": {
        "id": "d5589b39-66ca-484c-904e-a2f106ccdefb"
      },
      "outputs": [],
      "source": [
        "# Importamos las librerías necesarias para la programación del script\n",
        "import PyPDF2\n",
        "import pandas as pd"
      ]
    },
    {
      "cell_type": "code",
      "execution_count": null,
      "id": "2b454968-8d70-402d-a6fd-7264c2d7ad06",
      "metadata": {
        "id": "2b454968-8d70-402d-a6fd-7264c2d7ad06"
      },
      "outputs": [],
      "source": [
        "# Abrimos el fichero PDF\n",
        "ficheroPdf = open('JRC_Supply chain analysis and material demand_2023.pdf', 'rb')\n",
        "\n",
        "# Creamos el lector para poder acceder a su contenido\n",
        "lectorPDF = PyPDF2.PdfReader(ficheroPdf)\n",
        "\n",
        "# Extraemos las 3 páginas que contienen la tabla de datos que queremos analizar\n",
        "# La variable \"paginas\" contendrá un array donde cada elemento será una fila de\n",
        "# la tabla\n",
        "paginas = []\n",
        "paginas.append(lectorPDF.pages[240].extract_text().split(\"Risk Material\")[1].split(\"\\n\")[1:-1])\n",
        "paginas.append(lectorPDF.pages[241].extract_text().split(\"Risk Material\")[1].split(\"\\n\")[1:-1])\n",
        "paginas.append(lectorPDF.pages[242].extract_text().split(\"Risk Material\")[1].split(\"\\n\")[1:-3])\n",
        "paginas = paginas[0]+paginas[1]+paginas[2]"
      ]
    },
    {
      "cell_type": "code",
      "execution_count": null,
      "id": "e3f4cc55-d869-4f7e-9d23-ae0d9343736d",
      "metadata": {
        "id": "e3f4cc55-d869-4f7e-9d23-ae0d9343736d",
        "outputId": "d5446447-21c4-402c-d67a-200155bd7f7b"
      },
      "outputs": [
        {
          "data": {
            "text/html": [
              "<div>\n",
              "<style scoped>\n",
              "    .dataframe tbody tr th:only-of-type {\n",
              "        vertical-align: middle;\n",
              "    }\n",
              "\n",
              "    .dataframe tbody tr th {\n",
              "        vertical-align: top;\n",
              "    }\n",
              "\n",
              "    .dataframe thead th {\n",
              "        text-align: right;\n",
              "    }\n",
              "</style>\n",
              "<table border=\"1\" class=\"dataframe\">\n",
              "  <thead>\n",
              "    <tr style=\"text-align: right;\">\n",
              "      <th></th>\n",
              "      <th>Riesgo Suministro</th>\n",
              "      <th>Nombre Material</th>\n",
              "      <th>Baterias Li-ion</th>\n",
              "      <th>Pilas de Combustible</th>\n",
              "      <th>Electrolizadores</th>\n",
              "      <th>Aerogeneradores</th>\n",
              "      <th>Motores de Traccion</th>\n",
              "      <th>Solar Fotovoltaica</th>\n",
              "      <th>Bombas de Calor</th>\n",
              "      <th>Hidrogeno DRI</th>\n",
              "      <th>Redes de Transmision de Datos</th>\n",
              "      <th>Almacenamiento de Datos y Servidores</th>\n",
              "      <th>Telefonos Inteligentes, Tabletas y Computadoras Portatiles</th>\n",
              "      <th>Fabricacion Aditiva</th>\n",
              "      <th>Robotica</th>\n",
              "      <th>Drones</th>\n",
              "      <th>Lanzadores Espaciales y Satelites</th>\n",
              "    </tr>\n",
              "  </thead>\n",
              "  <tbody>\n",
              "    <tr>\n",
              "      <th>0</th>\n",
              "      <td>5.6</td>\n",
              "      <td>Dysprosium</td>\n",
              "      <td>0</td>\n",
              "      <td>0</td>\n",
              "      <td>0</td>\n",
              "      <td>1</td>\n",
              "      <td>1</td>\n",
              "      <td>0</td>\n",
              "      <td>1</td>\n",
              "      <td>0</td>\n",
              "      <td>0</td>\n",
              "      <td>1</td>\n",
              "      <td>1</td>\n",
              "      <td>0</td>\n",
              "      <td>1</td>\n",
              "      <td>1</td>\n",
              "      <td>1</td>\n",
              "    </tr>\n",
              "    <tr>\n",
              "      <th>1</th>\n",
              "      <td>4.9</td>\n",
              "      <td>Terbium</td>\n",
              "      <td>0</td>\n",
              "      <td>0</td>\n",
              "      <td>0</td>\n",
              "      <td>1</td>\n",
              "      <td>0</td>\n",
              "      <td>0</td>\n",
              "      <td>0</td>\n",
              "      <td>0</td>\n",
              "      <td>0</td>\n",
              "      <td>1</td>\n",
              "      <td>0</td>\n",
              "      <td>0</td>\n",
              "      <td>1</td>\n",
              "      <td>1</td>\n",
              "      <td>1</td>\n",
              "    </tr>\n",
              "    <tr>\n",
              "      <th>2</th>\n",
              "      <td>4.8</td>\n",
              "      <td>Gallium</td>\n",
              "      <td>0</td>\n",
              "      <td>0</td>\n",
              "      <td>0</td>\n",
              "      <td>0</td>\n",
              "      <td>0</td>\n",
              "      <td>1</td>\n",
              "      <td>0</td>\n",
              "      <td>0</td>\n",
              "      <td>1</td>\n",
              "      <td>1</td>\n",
              "      <td>1</td>\n",
              "      <td>0</td>\n",
              "      <td>1</td>\n",
              "      <td>1</td>\n",
              "      <td>1</td>\n",
              "    </tr>\n",
              "    <tr>\n",
              "      <th>3</th>\n",
              "      <td>4.1</td>\n",
              "      <td>Magnesium</td>\n",
              "      <td>0</td>\n",
              "      <td>0</td>\n",
              "      <td>1</td>\n",
              "      <td>0</td>\n",
              "      <td>0</td>\n",
              "      <td>0</td>\n",
              "      <td>0</td>\n",
              "      <td>0</td>\n",
              "      <td>0</td>\n",
              "      <td>1</td>\n",
              "      <td>1</td>\n",
              "      <td>1</td>\n",
              "      <td>1</td>\n",
              "      <td>1</td>\n",
              "      <td>1</td>\n",
              "    </tr>\n",
              "    <tr>\n",
              "      <th>4</th>\n",
              "      <td>4.0</td>\n",
              "      <td>Cerium</td>\n",
              "      <td>0</td>\n",
              "      <td>1</td>\n",
              "      <td>1</td>\n",
              "      <td>0</td>\n",
              "      <td>0</td>\n",
              "      <td>0</td>\n",
              "      <td>0</td>\n",
              "      <td>0</td>\n",
              "      <td>0</td>\n",
              "      <td>0</td>\n",
              "      <td>1</td>\n",
              "      <td>0</td>\n",
              "      <td>1</td>\n",
              "      <td>1</td>\n",
              "      <td>1</td>\n",
              "    </tr>\n",
              "  </tbody>\n",
              "</table>\n",
              "</div>"
            ],
            "text/plain": [
              "   Riesgo Suministro Nombre Material Baterias Li-ion Pilas de Combustible  \\\n",
              "0                5.6      Dysprosium               0                    0   \n",
              "1                4.9         Terbium               0                    0   \n",
              "2                4.8         Gallium               0                    0   \n",
              "3                4.1       Magnesium               0                    0   \n",
              "4                4.0          Cerium               0                    1   \n",
              "\n",
              "  Electrolizadores Aerogeneradores Motores de Traccion Solar Fotovoltaica  \\\n",
              "0                0               1                   1                  0   \n",
              "1                0               1                   0                  0   \n",
              "2                0               0                   0                  1   \n",
              "3                1               0                   0                  0   \n",
              "4                1               0                   0                  0   \n",
              "\n",
              "  Bombas de Calor Hidrogeno DRI Redes de Transmision de Datos  \\\n",
              "0               1             0                             0   \n",
              "1               0             0                             0   \n",
              "2               0             0                             1   \n",
              "3               0             0                             0   \n",
              "4               0             0                             0   \n",
              "\n",
              "  Almacenamiento de Datos y Servidores  \\\n",
              "0                                    1   \n",
              "1                                    1   \n",
              "2                                    1   \n",
              "3                                    1   \n",
              "4                                    0   \n",
              "\n",
              "  Telefonos Inteligentes, Tabletas y Computadoras Portatiles  \\\n",
              "0                                                  1           \n",
              "1                                                  0           \n",
              "2                                                  1           \n",
              "3                                                  1           \n",
              "4                                                  1           \n",
              "\n",
              "  Fabricacion Aditiva Robotica Drones Lanzadores Espaciales y Satelites  \n",
              "0                   0        1      1                                 1  \n",
              "1                   0        1      1                                 1  \n",
              "2                   0        1      1                                 1  \n",
              "3                   1        1      1                                 1  \n",
              "4                   0        1      1                                 1  "
            ]
          },
          "execution_count": 5,
          "metadata": {},
          "output_type": "execute_result"
        }
      ],
      "source": [
        "# Recorremos línea a línea insertando en un array bi-dimensional (tabla) los valores del PDF\n",
        "tabla = []\n",
        "for i in range(len(paginas)):\n",
        "    linea_texto = paginas[i][:]\n",
        "    fila_tabla = linea_texto.split(\"  \",1)\n",
        "    fila_tabla[0] = fila_tabla[0].split(maxsplit=1)\n",
        "    fila_tabla[0][0] = float(fila_tabla[0][0])\n",
        "    fila_tabla[1] = fila_tabla[1].replace(\"• \", \"1\")\n",
        "    fila_tabla[1] = fila_tabla[1].replace(\" \",\"0\")\n",
        "    if(len(fila_tabla[1])<15):\n",
        "        fila_tabla[1]=\"0\"+fila_tabla[1]\n",
        "    fila_tabla[1] = [caracter for caracter in fila_tabla[1]]\n",
        "\n",
        "    tabla.append(fila_tabla[0]+fila_tabla[1])\n",
        "\n",
        "# Cargamos los valores en una estructura de datos para poder analizarlos\n",
        "columnas = ['Riesgo Suministro','Nombre Material','Baterias Li-ion','Pilas de Combustible','Electrolizadores','Aerogeneradores','Motores de Traccion',\n",
        "            'Solar Fotovoltaica','Bombas de Calor','Hidrogeno DRI','Redes de Transmision de Datos','Almacenamiento de Datos y Servidores',\n",
        "            'Telefonos Inteligentes, Tabletas y Computadoras Portatiles','Fabricacion Aditiva','Robotica','Drones','Lanzadores Espaciales y Satelites']\n",
        "datos = pd.DataFrame(tabla, columns=columnas)\n",
        "datos.head()"
      ]
    },
    {
      "cell_type": "code",
      "execution_count": null,
      "id": "c85f01a0-ff92-43e8-8052-f7b8be800a96",
      "metadata": {
        "id": "c85f01a0-ff92-43e8-8052-f7b8be800a96"
      },
      "outputs": [],
      "source": [
        "# Añadimos la columna que clasifica los materiales por Estratégicos, Críticos y No Críticos\n",
        "datos.drop(columns=['Tipo Material'],errors=\"ignore\", inplace=True)\n",
        "datos.insert(loc=2, column=\"Tipo Material\", value=\"Estrategico\")\n",
        "datos.loc[26:, 'Tipo Material'] = 'Critico' # A partir de Erbium\n",
        "datos.loc[51:, 'Tipo Material'] = 'No critico' # A partir de Natural Teak wood"
      ]
    },
    {
      "cell_type": "code",
      "execution_count": null,
      "id": "6f1aa12c-3d06-44cb-bfff-41ddb2676b9a",
      "metadata": {
        "id": "6f1aa12c-3d06-44cb-bfff-41ddb2676b9a"
      },
      "outputs": [],
      "source": [
        "# Exportamos el conjunto de datos en un fichero CSV\n",
        "datos.to_csv('jrc_materiales_tecnologias.csv', index=False, decimal=',')"
      ]
    }
  ],
  "metadata": {
    "kernelspec": {
      "display_name": "Python 3 (ipykernel)",
      "language": "python",
      "name": "python3"
    },
    "language_info": {
      "codemirror_mode": {
        "name": "ipython",
        "version": 3
      },
      "file_extension": ".py",
      "mimetype": "text/x-python",
      "name": "python",
      "nbconvert_exporter": "python",
      "pygments_lexer": "ipython3",
      "version": "3.9.6"
    },
    "colab": {
      "provenance": [],
      "toc_visible": true,
      "include_colab_link": true
    }
  },
  "nbformat": 4,
  "nbformat_minor": 5
}