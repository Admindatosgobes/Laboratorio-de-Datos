{
  "nbformat": 4,
  "nbformat_minor": 0,
  "metadata": {
    "colab": {
      "name": "exploiting-rdf-with-rdflib.ipynb",
      "provenance": [],
      "collapsed_sections": []
    },
    "kernelspec": {
      "name": "python3",
      "display_name": "Python 3"
    },
    "language_info": {
      "name": "python"
    }
  },
  "cells": [
    {
      "cell_type": "code",
      "metadata": {
        "id": "D07mUfs3MOhJ"
      },
      "source": [
        "!pip install rdflib\n",
        "!pip install folium\n",
        "!pip install pyproj"
      ],
      "execution_count": null,
      "outputs": []
    },
    {
      "cell_type": "code",
      "metadata": {
        "id": "8Kh08nYhMphO"
      },
      "source": [
        "storage = \"https://raw.githubusercontent.com/opencitydata/guia-rdf-datosgob/main/rdf-explotacion/terrazas-madrid.nt\" #poner el enlace a tus datos en github (raw files)\n",
        "\n",
        "from rdflib import Graph, Namespace, Literal\n",
        "from rdflib.plugins.sparql import prepareQuery\n",
        "import folium\n",
        "from pyproj import Transformer\n",
        "\n",
        "g = Graph()\n",
        "\n",
        "g.parse(storage, format=\"ntriples\") #quizá esto tarde un poco si el archivo es muy grande"
      ],
      "execution_count": null,
      "outputs": []
    },
    {
      "cell_type": "markdown",
      "metadata": {
        "id": "ZjIGX7hjMvzP"
      },
      "source": [
        "# Consulta 1: Listado de terrazas y sus horarios de lunes a viernes anualmente"
      ]
    },
    {
      "cell_type": "code",
      "metadata": {
        "id": "qgZceqjJfH8G"
      },
      "source": [
        "from rdflib import XSD\n",
        "\n",
        "ESCOM = Namespace(\"http://vocab.ciudadesabiertas.es/def/comercio/tejido-comercial/\") \n",
        "\n",
        "q1 = prepareQuery('''\n",
        "  SELECT \n",
        "    ?terraza ?horario\n",
        "\tWHERE { \n",
        "    ?terraza rdf:type escom:Terraza;\n",
        "          <http://schema.org/openingHours> ?horario .\n",
        "    \n",
        "    FILTER(regex(?horario, \"Anual Lun-Juev.*\", \"i\" ))\n",
        "  } \n",
        "  ''',\n",
        "  initNs = { \"escom\": ESCOM}\n",
        ")\n",
        "\n",
        "for r in g.query(q1):\n",
        "  print(r.terraza, r.horario)"
      ],
      "execution_count": null,
      "outputs": []
    },
    {
      "cell_type": "code",
      "metadata": {
        "id": "kyDCav6n2t6d"
      },
      "source": [
        ""
      ],
      "execution_count": null,
      "outputs": []
    },
    {
      "cell_type": "markdown",
      "metadata": {
        "id": "8fJojiXCZmFu"
      },
      "source": [
        "# Consulta 2: Listado de terrazas que tengan más de 15 mesas autorizadas"
      ]
    },
    {
      "cell_type": "code",
      "metadata": {
        "id": "PYwziYG5MvUU"
      },
      "source": [
        "from rdflib import XSD\n",
        "\n",
        "ESCOM = Namespace(\"http://vocab.ciudadesabiertas.es/def/comercio/tejido-comercial/\") \n",
        "\n",
        "q1 = prepareQuery('''\n",
        "  SELECT \n",
        "    ?terraza ?mesas\n",
        "\tWHERE { \n",
        "    ?terraza rdf:type escom:Terraza;\n",
        "          escom:numeroMesasAutorizadas ?mesas .\n",
        "    \n",
        "    FILTER(?mesas > \"15\"^^<http://www.w3.org/2001/XMLSchema#integer>)\n",
        "  } \n",
        "  ''',\n",
        "  initNs = { \"escom\": ESCOM}\n",
        ")\n",
        "\n",
        "for r in g.query(q1):\n",
        "  print(r.terraza, r.mesas)\n"
      ],
      "execution_count": null,
      "outputs": []
    },
    {
      "cell_type": "markdown",
      "metadata": {
        "id": "45hk8EOJ3X94"
      },
      "source": [
        "# Consulta 3: Listado de terrazas con actividad en el periodo anual"
      ]
    },
    {
      "cell_type": "code",
      "metadata": {
        "id": "yrg1QPBJ3dS2"
      },
      "source": [
        "from rdflib import XSD\n",
        "\n",
        "ESCOM = Namespace(\"http://vocab.ciudadesabiertas.es/def/comercio/tejido-comercial/\") \n",
        "q1 = prepareQuery('''\n",
        "  SELECT \n",
        "    ?terraza\n",
        "\tWHERE { \n",
        "    ?terraza rdf:type escom:Terraza;\n",
        "          escom:periodoFuncionamiento <http://vocab.linkeddata.es/datosabiertos/kos/comercio/periodo-funcionamiento/anual> .\n",
        "  } \n",
        "  ''',\n",
        "  initNs = { \"escom\": ESCOM}\n",
        ")\n",
        "\n",
        "for r in g.query(q1):\n",
        "  print(r.terraza)"
      ],
      "execution_count": null,
      "outputs": []
    },
    {
      "cell_type": "markdown",
      "metadata": {
        "id": "7BOc1mBBMZGx"
      },
      "source": [
        "# Ejemplo real: Dibujando puntos geográficos a partir de RDF"
      ]
    },
    {
      "cell_type": "code",
      "metadata": {
        "id": "C3Vo2CmfMX2O"
      },
      "source": [
        "ESCOM = Namespace(\"http://vocab.ciudadesabiertas.es/def/comercio/tejido-comercial/\") \n",
        "# Preparamos la consulta, dame las terrazas, su horario anual de lunes a jueves y la latitud y longitud de su LocalComercial asociado\n",
        "q1 = prepareQuery('''\n",
        "  SELECT \n",
        "    ?horario ?lat ?lon\n",
        "\tWHERE { \n",
        "    ?terraza rdf:type escom:Terraza .\n",
        "    ?terraza <http://schema.org/openingHours> ?horario .\n",
        "    ?terraza escom:perteneceA ?local .\n",
        "    ?local rdf:type escom:LocalComercial .\n",
        "    ?local <http://www.opengis.net/ont/geosparql#hasGeometry> ?point .\n",
        "    ?point rdf:type <http://www.opengis.net/ont/sf#Point> .\n",
        "    ?point <https://datos.ign.es/def/geo_core#xETRS89> ?lat .\n",
        "    ?point <https://datos.ign.es/def/geo_core#yETRS89> ?lon .\n",
        "    \n",
        "    FILTER(regex(?horario, \"Anual Lun-Juev.*\", \"i\" ))\n",
        "  } LIMIT 10\n",
        "  ''',\n",
        "  initNs = { \"escom\": ESCOM}\n",
        ")\n",
        "# inspeccionamos los datos que nos devuelve la consulta\n",
        "for r in g.query(q1):\n",
        "  print(r.lat, r.lon, r.horario)\n",
        "\n",
        "# debemos transformar el formato de los datos de lon de UTM a WGS 84\n",
        "transformer = Transformer.from_crs('epsg:25830','epsg:4326')\n",
        "mapa = folium.Map(location=[40.4167,  -3.70325])\n",
        "for r in g.query(q1):\n",
        "  x,y = transformer.transform(float((r.lat).replace(\",\",\".\")),float((r.lon).replace(\",\",\".\")))\n",
        "  horario = (r.horario).replace(\"Anual Lun-Juev \",\"\")\n",
        "  folium.Marker([x,y], popup=horario, tooltip=horario).add_to(mapa)\n",
        "\n",
        "mapa"
      ],
      "execution_count": null,
      "outputs": []
    },
    {
      "cell_type": "code",
      "metadata": {
        "id": "QC2RQEl-Mt9e"
      },
      "source": [
        ""
      ],
      "execution_count": null,
      "outputs": []
    }
  ]
}
