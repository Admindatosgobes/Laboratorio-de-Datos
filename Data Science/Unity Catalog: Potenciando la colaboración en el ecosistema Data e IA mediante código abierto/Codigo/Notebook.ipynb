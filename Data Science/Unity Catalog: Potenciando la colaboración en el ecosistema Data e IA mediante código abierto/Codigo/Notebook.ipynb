{
 "cells": [
  {
   "cell_type": "markdown",
   "metadata": {},
   "source": [
    "## Desarrollo del Ejercicio"
   ]
  },
  {
   "cell_type": "markdown",
   "metadata": {},
   "source": [
    "Una vez completados loa requisitos previos, procedemos a desarrollar el ejercicio. Como indicamos en la sección anterior, esta parte del ejercicio la realizaremos sobre este **Notebook ya abierto en nuestro PC en Visual Studio Code**."
   ]
  },
  {
   "cell_type": "markdown",
   "metadata": {},
   "source": [
    "### Despliegue Aplicación Unity Catalog"
   ]
  },
  {
   "cell_type": "markdown",
   "metadata": {},
   "source": [
    "En primer lugar, clonamos el repositorio de GitHub donde está publicado de forma abierta la actual versión de Unity Catalog. Seleccionamos en particular el *commit id* **5d668c164ec17aa28c9974c6c218afc06da91750** por ser el actual en el momento de realizar este tutorial. \n",
    "\n",
    "Para ello, debemos disponer de [Git](https://git-scm.com/) instalado en nuestro PC. Una vez instalado, ejecutamos la siguiente celda de código. Esto creará en nuestra carpeta de trabajo una subcarpeta llamada *unitycatalog* que contiene el código abierto de la herramienta."
   ]
  },
  {
   "cell_type": "code",
   "execution_count": null,
   "metadata": {},
   "outputs": [],
   "source": [
    "%%sh\n",
    "if [ ! -d \"unitycatalog\" ]; then\n",
    "  git clone https://github.com/unitycatalog/unitycatalog.git\n",
    "  cd unitycatalog\n",
    "  git checkout 5d668c164ec17aa28c9974c6c218afc06da91750\n",
    "else\n",
    "  echo \"La carpeta 'unitycatalog' ya existe.\"\n",
    "fi"
   ]
  },
  {
   "cell_type": "markdown",
   "metadata": {},
   "source": [
    "A continuación, utilizamos Docker Desktop para levantar la aplicación Unity Catalog. La definición de los contenedores que componen esta aplicación la podemos encontrar en el fichero *compose.yaml*, descargado al clonar su repositorio de código. Si abrimos este fichero, podemos observar como se definen dos contenedores:\n",
    "- ***server***: contenedor que contiene el *backend* o servidor de Unity Catalog. Habilita el puerto 8080 para poder acceder a los diferentes servicios disponibles (catálogos, tablas, volúmenes...). Comprenderemos esto más adelante.\n",
    "- ***ui***: contenedor que levanta la interfaz de usuario, disponible en el puerto 3000.\n",
    "\n",
    "![Docker - Compose YAML](https://github.com/Admindatosgobes/Laboratorio-de-Datos/blob/main/Data%20Science/Unity%20Catalog%3A%20Potenciando%20la%20colaboraci%C3%B3n%20en%20el%20ecosistema%20Data%20e%20IA%20mediante%20c%C3%B3digo%20abierto/Imagenes/docker_compose-yaml.png?raw=true)"
   ]
  },
  {
   "cell_type": "markdown",
   "metadata": {},
   "source": [
    "Para iniciar nuestra aplicación ejecutamos el comando ```docker compose up``` el cual levanta los contenedores definidos en el fichero *compose.yaml* anteriormente analizado. **Este paso puede tardar varios minutos en completarse.**"
   ]
  },
  {
   "cell_type": "code",
   "execution_count": null,
   "metadata": {},
   "outputs": [],
   "source": [
    "%%sh\n",
    "cd unitycatalog\n",
    "docker compose up -d"
   ]
  },
  {
   "cell_type": "markdown",
   "metadata": {},
   "source": [
    "En *Docker Desktop > Containers* podemos ahora observar los dos contenedores correctamente levantados y en ejecución. El servidor en el puerto 8080 y la interfaz de usuario en el puerto 3000.\n",
    "\n",
    "![Docker - Containers 1](https://github.com/Admindatosgobes/Laboratorio-de-Datos/blob/main/Data%20Science/Unity%20Catalog%3A%20Potenciando%20la%20colaboraci%C3%B3n%20en%20el%20ecosistema%20Data%20e%20IA%20mediante%20c%C3%B3digo%20abierto/Imagenes/docker_containers-1.png?raw=true)"
   ]
  },
  {
   "cell_type": "markdown",
   "metadata": {},
   "source": [
    "Si seleccionamos el contenedor *server-1*, en su sección *Logs*, podemos ver por pantalla el rótulo de Unity Catalog junto con la versión desplegada, en nuestro caso, v0.3.0.\n",
    "\n",
    "![Docker - Server Logs](https://github.com/Admindatosgobes/Laboratorio-de-Datos/blob/main/Data%20Science/Unity%20Catalog%3A%20Potenciando%20la%20colaboraci%C3%B3n%20en%20el%20ecosistema%20Data%20e%20IA%20mediante%20c%C3%B3digo%20abierto/Imagenes/docker_server-logs.png?raw=true)"
   ]
  },
  {
   "cell_type": "markdown",
   "metadata": {},
   "source": [
    "### Primeros pasos con Unity Catalog"
   ]
  },
  {
   "cell_type": "markdown",
   "metadata": {},
   "source": [
    "Unity Catalog puede gobernar y gestionar cuatro tipos de recursos clave:\n",
    "- **Tablas de datos**: Conjuntos de datos estructurados (columnas/filas) que se consultan y gobiernan de forma centralizada.\n",
    "- **Volúmenes**: Espacios para archivos sin estructura (CSV, JSON, logs…), pero igualmente gobernados a nivel de permisos y trazabilidad.\n",
    "- **Funciones**: Lógicas definidas para transformar o procesar datos que permiten la reutilización de código.\n",
    "- **Modelos**: Artefactos de Machine Learning que pueden almacenarse y versionarse dentro de Unity Catalog para control y colaboración."
   ]
  },
  {
   "cell_type": "markdown",
   "metadata": {},
   "source": [
    "Estos recursos se pueden organizar en diferentes **catálogos** y **esquemas**, los cuales permiten establecer diferentes niveles jerárquicos de organización de recursos. Si, en nuestro PC, abrimos un navegador (i.e. Google Chrome) y navegamos a la URL http://localhost:3000, podremos ver a través del interfaz de usuario los catálogos y esquemas existentes.\n",
    "\n",
    "![Unity Catalog - UI Start](https://github.com/Admindatosgobes/Laboratorio-de-Datos/blob/main/Data%20Science/Unity%20Catalog%3A%20Potenciando%20la%20colaboraci%C3%B3n%20en%20el%20ecosistema%20Data%20e%20IA%20mediante%20c%C3%B3digo%20abierto/Imagenes/uc_ui-start.png?raw=true)"
   ]
  },
  {
   "cell_type": "markdown",
   "metadata": {},
   "source": [
    "Podemos observar como esta versión de Unity Catalog trae por defecto creado un catálogo llamado *unity* que alberga un esquema llamado *default* que a su vez alberga cuatro tablas de datos *marksheet*, *marksheet_uniform*, *numbers* y *user_countries*. Podemos navegar entre los diferentes recursos para familiarizarnos con este tipo de conceptos."
   ]
  },
  {
   "cell_type": "markdown",
   "metadata": {},
   "source": [
    "También podemos utilizar directamente la **API (*Application Programming Interface*)** expuesta por el backend de Unity Catalog para consultar esta misma información de forma programática. La documentación de esta API está disponible en [esta página](https://docs.unitycatalog.io/swagger-docs/). A modo de ejemplo, si introducimos en nuestro navegador la siguiente URL, estaremos realizando una operación GET (lectura) de las tablas disponibles en el catálogo *unity*, esquema *default*.\n",
    "\n",
    "```http://localhost:8080/api/2.1/unity-catalog/tables?catalog_name=unity&schema_name=default```\n",
    "\n",
    "![Unity Catalog - API Request](https://github.com/Admindatosgobes/Laboratorio-de-Datos/blob/main/Data%20Science/Unity%20Catalog%3A%20Potenciando%20la%20colaboraci%C3%B3n%20en%20el%20ecosistema%20Data%20e%20IA%20mediante%20c%C3%B3digo%20abierto/Imagenes/uc_ui-api-request.png?raw=true)"
   ]
  },
  {
   "cell_type": "markdown",
   "metadata": {},
   "source": [
    "Alternativamente, Unity Catalog proporciona un **CLI (Command Line Interface)** que simplifica la ejecución de llamadas a la API desde la línea de comandos. Para no tener que instalar sus dependencias en nuestro propio PC, utilizaremos esta utilidad desde el contenedor del backend, donde ya está disponible. A modo de ejemplo, repetimos la misma operación que realizamos antes a través de la API, pero ahora con el CLI: listamos las tablas disponibles en el catálogo *unity*, dentro del esquema *default*."
   ]
  },
  {
   "cell_type": "code",
   "execution_count": null,
   "metadata": {},
   "outputs": [],
   "source": [
    "%%sh\n",
    "docker exec unitycatalog-server-1 /bin/bash -c \"bin/uc table list --catalog unity --schema default\""
   ]
  },
  {
   "cell_type": "markdown",
   "metadata": {},
   "source": [
    "El comando ```docker exec unitycatalog-server-1 /bin/bash``` permite ejecutar el proceso */bin/bash* en el contenedor docker llamado *unitycatalog-server-1*, es decir, ejecutar comandos directamente sobre la shell de contenedor. Precisamente la opción ```-c``` permite indicar el comando que queremos ejecutar, en nuestro caso```bin/uc table list --catalog unity --schema default```. Este comando ejecuta el CLI de Unity Catalog, disponible en la ruta ```bin/uc```, y le indica que desea listar las tablas del catálogo *unity* y esquema *default*."
   ]
  },
  {
   "cell_type": "markdown",
   "metadata": {},
   "source": [
    "Toda la documentación sobre cómo utilizar este CLI está disponible en la [página de documentación](https://docs.unitycatalog.io/usage/cli/) de Unity Catalog."
   ]
  },
  {
   "cell_type": "markdown",
   "metadata": {},
   "source": [
    "### Configuración Metastore en MySQL"
   ]
  },
  {
   "cell_type": "markdown",
   "metadata": {},
   "source": [
    "Hasta ahora, hemos podido realizar un despliegue exitoso de la aplicación Unity Catalog y comprender tanto sus conceptos principales (catálogo, esquema, tabla, volumen...) como diferentes formas de interactuar y gestionar la aplicación (interfaz de usuario, API, CLI). No obstante, como indicamos al empezar este laboratorio, deseamos que el almacenamiento de los metadatos de los recursos gestionados por Unity Catalog se almacenen en una base de datos al uso en lugar de en el propio sistema de ficheros, que es la opción por defecto aplicada en el despliegue que acabamos de realizar.\n",
    "\n",
    "Unity Catalog ofrece diferentes alternativas para almacenar los metadatos de los recursos que gobierna, como sistema de ficheros o base de datos. En nuestro caso, configuraremos una base de datos [MySQL](https://www.mysql.com/) como repositorio para el almacenamiento de estos metadatos.\n",
    "\n",
    "Para ello realizaremos los siguientes pasos:\n",
    "- Descargar un conector para que Unity Catalog pueda conectarse a una base de datos de tipo MySQL.\n",
    "- Levantar un contenedor docker con la base de datos MySQL.\n",
    "- Configurar en Unity Catalog los parámetros de dicha conexión."
   ]
  },
  {
   "cell_type": "markdown",
   "metadata": {},
   "source": [
    "#### Driver JDBC"
   ]
  },
  {
   "cell_type": "markdown",
   "metadata": {},
   "source": [
    "Podemos obtener el conector (driver JDBC) en el [siguiente enlace](https://dev.mysql.com/downloads/connector/j/) seleccionando la opción *Platform Independent*.\n",
    "\n",
    "![MySQL - JDBC Download](https://github.com/Admindatosgobes/Laboratorio-de-Datos/blob/main/Data%20Science/Unity%20Catalog%3A%20Potenciando%20la%20colaboraci%C3%B3n%20en%20el%20ecosistema%20Data%20e%20IA%20mediante%20c%C3%B3digo%20abierto/Imagenes/mysql_jdbc-download.png?raw=true)\n",
    "\n",
    "Esto descargará un fichero *.zip* dentro del cual encontraremos el driver: fichero *.jar* que debemos copiar dentro de la carpeta *unitycatalog*. Debemos modificar su nombre a *mysql-connector-j-9.2.0.jar*, si no fuese el nombre que trajese por defecto el archivo descargado.\n",
    "\n",
    "En el momento de la preparación de este tutorial, la última versión disponible es la *9.2.0*. En caso de que hayan sido publicadas nuevas versiones, en el momento de realizar la descarga podremos seleccionar esta versión desde la sección *Archives*.\n",
    "\n",
    "![MySQL - JDBC Download Archive](https://github.com/Admindatosgobes/Laboratorio-de-Datos/blob/main/Data%20Science/Unity%20Catalog%3A%20Potenciando%20la%20colaboraci%C3%B3n%20en%20el%20ecosistema%20Data%20e%20IA%20mediante%20c%C3%B3digo%20abierto/Imagenes/mysql_jdbc-download-archive.png?raw=true)\n"
   ]
  },
  {
   "cell_type": "markdown",
   "metadata": {},
   "source": [
    "#### Configuración y despliegue"
   ]
  },
  {
   "cell_type": "markdown",
   "metadata": {},
   "source": [
    "En la carpeta MySQL econtramos varios archivos para poder realizar la configuración y el despliegue de la solución:\n",
    "- Los archivos *compose-MySQL.yaml* y *Dockerfile-MySQL* modifican el anterior despliegue de contenedores realizado incluyendo un nuevo contenedor *db* que aloja la base de datos MySQL.\n",
    "- El archivo *hibernate.properties* permite configurar en Unity Catalog los parámetros necesarios para conectar con MySQL. Entre ellos:\n",
    "```\n",
    "        # MySQL JDBC Driver\n",
    "        hibernate.connection.driver_class=com.mysql.cj.jdbc.Driver\n",
    "        # MySQL URL\n",
    "        hibernate.connection.url=jdbc:mysql://db:3306/ucdb\n",
    "        # MySQL User\n",
    "        hibernate.connection.user=uc_default_user\n",
    "        # MySQL Password              \n",
    "        hibernate.connection.password=uc_default_password\n",
    " ```"
   ]
  },
  {
   "cell_type": "markdown",
   "metadata": {},
   "source": [
    "El siguiente script permite realizar la copia de los archivos anteriormente indicados y el re-despliegue de contenedores."
   ]
  },
  {
   "cell_type": "code",
   "execution_count": null,
   "metadata": {},
   "outputs": [],
   "source": [
    "%%sh\n",
    "cp MySQL/compose-MySQL.yaml MySQL/Dockerfile-MySQL unitycatalog/\n",
    "cp MySQL/hibernate.properties unitycatalog/etc/conf/\n",
    "cd unitycatalog\n",
    "docker compose -f compose-MySQL.yaml up --build -d"
   ]
  },
  {
   "cell_type": "markdown",
   "metadata": {},
   "source": [
    "#### Validación"
   ]
  },
  {
   "cell_type": "markdown",
   "metadata": {},
   "source": [
    "En Docker Desktop podemos ahora ver un nuevo contenedor *db* como parte del despliegue de la aplicación.\n",
    "\n",
    "![Docker - Containers MySQL](https://github.com/Admindatosgobes/Laboratorio-de-Datos/blob/main/Data%20Science/Unity%20Catalog%3A%20Potenciando%20la%20colaboraci%C3%B3n%20en%20el%20ecosistema%20Data%20e%20IA%20mediante%20c%C3%B3digo%20abierto/Imagenes/docker_containers-2.png?raw=true)"
   ]
  },
  {
   "cell_type": "markdown",
   "metadata": {},
   "source": [
    "Al encontrarse la base de datos MySQL vacía, si refrescamos la web de Unity Catalog veremos como ahora no aparece ningún catálogo.\n",
    "\n",
    "![Unity Catalog - UI MySQL](https://github.com/Admindatosgobes/Laboratorio-de-Datos/blob/main/Data%20Science/Unity%20Catalog%3A%20Potenciando%20la%20colaboraci%C3%B3n%20en%20el%20ecosistema%20Data%20e%20IA%20mediante%20c%C3%B3digo%20abierto/Imagenes/uc_ui-mysql.png?raw=true)"
   ]
  },
  {
   "cell_type": "markdown",
   "metadata": {},
   "source": [
    "Lo mismo sucede si tratamos de listar los catálogos disponibles utilizando el CLI. Vemos un listado vacío ya que no existe ningún catálogo."
   ]
  },
  {
   "cell_type": "code",
   "execution_count": null,
   "metadata": {},
   "outputs": [],
   "source": [
    "%%sh\n",
    "docker exec unitycatalog-server-1 /bin/bash -c \"bin/uc catalog list\""
   ]
  },
  {
   "cell_type": "markdown",
   "metadata": {},
   "source": [
    "Por último, podemos acceder directamente a la base de datos MySQL mediante Python instalando la librería *mysql-connector*."
   ]
  },
  {
   "cell_type": "code",
   "execution_count": null,
   "metadata": {},
   "outputs": [],
   "source": [
    "%%sh\n",
    "source python-venv/bin/activate\n",
    "pip install mysql-connector-python==9.2.0"
   ]
  },
  {
   "cell_type": "markdown",
   "metadata": {},
   "source": [
    "Una vez instalada, importamos la librería e introducimos los parámetros de conexión (URL, usuario, contraseña y nombre de la base de datos) de igual forma que hicimos anteriormente desde Unity Catalog. A continuación ejecutamos un primer comando SQL para mostrar las tablas disponibles en la base de datos: \n",
    "\n",
    "```SHOW TABLES```."
   ]
  },
  {
   "cell_type": "code",
   "execution_count": null,
   "metadata": {},
   "outputs": [],
   "source": [
    "import mysql.connector\n",
    "\n",
    "# Conexión a la base de datos\n",
    "conn = mysql.connector.connect(\n",
    "    host=\"localhost\",          # Dirección del servidor, en nuestro caso nuestro propio PC\n",
    "    user=\"uc_default_user\",         # Usuario de base de datos anteriormente configurado\n",
    "    password=\"uc_default_password\",  # Contraseña anteriormente configurada\n",
    "    database=\"ucdb\"  # Nombre de la base de datos\n",
    ")\n",
    "\n",
    "try:\n",
    "    cursor = conn.cursor()\n",
    "\n",
    "    # Mostrar tablas en la base de datos\n",
    "    cursor.execute(\"SHOW TABLES\")\n",
    "    tablas = cursor.fetchall()\n",
    "    print(\"Tablas en la base de datos:\")\n",
    "    for t in tablas:\n",
    "        # Cada fila es una tupla con un solo valor (el nombre de la tabla)\n",
    "        print(\" -\", t[0])\n",
    "\n",
    "finally:\n",
    "    # Cerrar cursor y conexión\n",
    "    cursor.close()"
   ]
  },
  {
   "cell_type": "markdown",
   "metadata": {},
   "source": [
    "En este caso, podemos observar las diferentes tablas que crea Unity Catalog en MySQL para almacenar los metadatos necesarios. Si, al igual que hicimos desde la web o el CLI, deseamos listar los catálogos disponibles, podemos ejecutar el siguiente comando SQL:\n",
    "\n",
    "```SELECT NAME FROM uc_catalogs```"
   ]
  },
  {
   "cell_type": "code",
   "execution_count": null,
   "metadata": {},
   "outputs": [],
   "source": [
    "try:\n",
    "    cursor = conn.cursor()\n",
    "\n",
    "    # Mostrar tablas en la base de datos\n",
    "    cursor.execute(\"SELECT NAME FROM uc_catalogs\")\n",
    "    query = cursor.fetchall()\n",
    "    print(\"Catálogos en la base de datos:\")\n",
    "    for t in query:\n",
    "        # Cada fila es una tupla con un solo valor (el nombre de la tabla)\n",
    "        print(\" -\", t[0])\n",
    "\n",
    "finally:\n",
    "    # Cerrar cursor y conexión\n",
    "    cursor.close()"
   ]
  },
  {
   "cell_type": "markdown",
   "metadata": {},
   "source": [
    "A modo de prueba, anticipándonos al siguiente apartado, vamos a crear los catálogos de datos de tres ciudades. Utilizamos para ello el CLI."
   ]
  },
  {
   "cell_type": "code",
   "execution_count": null,
   "metadata": {},
   "outputs": [],
   "source": [
    "%%sh\n",
    "# Crear Catalogo\n",
    "docker exec unitycatalog-server-1 /bin/bash -c \"bin/uc catalog create --name Toledo --comment 'Catálogo de datos de la ciudad de Toledo'\"\n",
    "docker exec unitycatalog-server-1 /bin/bash -c \"bin/uc catalog create --name Madrid --comment 'Catálogo de datos de la ciudad de Madrid'\"\n",
    "docker exec unitycatalog-server-1 /bin/bash -c \"bin/uc catalog create --name Sevilla --comment 'Catálogo de datos de la ciudad de Sevilla'\""
   ]
  },
  {
   "cell_type": "markdown",
   "metadata": {},
   "source": [
    "Podemos ver estos tres esquemas disponibles a través del UI.\n",
    "\n",
    "![Unity Catalog - UI Catalogs](https://github.com/Admindatosgobes/Laboratorio-de-Datos/blob/main/Data%20Science/Unity%20Catalog%3A%20Potenciando%20la%20colaboraci%C3%B3n%20en%20el%20ecosistema%20Data%20e%20IA%20mediante%20c%C3%B3digo%20abierto/Imagenes/uc_ui-catalogs.png?raw=true)"
   ]
  },
  {
   "cell_type": "markdown",
   "metadata": {},
   "source": [
    "Si volvemos a realizar la consulta utilizando *mysql connector*, observaremos ahora los tres catálogos recién creados."
   ]
  },
  {
   "cell_type": "code",
   "execution_count": null,
   "metadata": {},
   "outputs": [],
   "source": [
    "try:\n",
    "    cursor = conn.cursor()\n",
    "\n",
    "    # Mostrar tablas en la base de datos\n",
    "    cursor.execute(\"SELECT NAME FROM uc_catalogs\")\n",
    "    query = cursor.fetchall()\n",
    "    print(\"Catálogos en la base de datos:\")\n",
    "    for t in query:\n",
    "        # Cada fila es un       a tupla con un solo valor (el nombre de la tabla)\n",
    "        print(\" -\", t[0])\n",
    "\n",
    "finally:\n",
    "    # Cerrar cursor y conexión\n",
    "    cursor.close()\n",
    "    conn.close()"
   ]
  },
  {
   "cell_type": "markdown",
   "metadata": {},
   "source": [
    "Una vez terminadas las consultas, podemos cerrar la conexión anteriormente creada."
   ]
  },
  {
   "cell_type": "code",
   "execution_count": null,
   "metadata": {},
   "outputs": [],
   "source": [
    "conn.close()"
   ]
  },
  {
   "cell_type": "markdown",
   "metadata": {},
   "source": [
    "### Construcción de objetos y recursos"
   ]
  },
  {
   "cell_type": "markdown",
   "metadata": {},
   "source": [
    "En los anteriores apartados configuramos y desplegamos Unity Catalog por lo que ya disponemos de un entorno de trabajo sobre el cual empezar a organizar y gestionar nuestros recursos de datos e IA. En este apartado nos centraremos en crear y catalogar los diferentes recursos siguiendo "
   ]
  },
  {
   "cell_type": "markdown",
   "metadata": {},
   "source": [
    "Recordando el escenario de aplicación, vamos a tratar de representar un caso de uso real en el que un organismo desea habilitar varios catálogos de datos y recursos de datos relativos a servicios públicos ofrecidos por diferentes ciudades españolas. Entre estos servicios, podremos encontrar información relativa a alumbrado, transporte público o gestión de residuos. Para ello, decidimos establecer la siguiente jerarquía de recursos dentro de Unity Catalog\n",
    "\n",
    "![UC - Organization](https://github.com/Admindatosgobes/Laboratorio-de-Datos/blob/main/Data%20Science/Unity%20Catalog%3A%20Potenciando%20la%20colaboraci%C3%B3n%20en%20el%20ecosistema%20Data%20e%20IA%20mediante%20c%C3%B3digo%20abierto/Imagenes/uc_organization.png?raw=true)"
   ]
  },
  {
   "cell_type": "markdown",
   "metadata": {},
   "source": [
    "Dado que cada ciudad tiene sus particularidades en cuanto a servicios, formato de datos e incluso políticas de publicación y compartición de datos, cada ciudad dispondrá de su propio catálogo de recursos. Posteriormente, dado que diferentes instituciones públicas gestionan cada uno de los servicios dentro de una misma ciudad, cada servicio dispondrá de su propio esquema donde gestionar sus recursos de datos. De esta forma, una ingeniera de datos realizando trabajos sobre datos de transporte público no tendrá por qué disponer de acceso a los recursos de alumbrado"
   ]
  },
  {
   "cell_type": "markdown",
   "metadata": {},
   "source": [
    "Los pasos que daremos a continuación serán los siguientes:\n",
    "- Creación de catálogos y esquemas.\n",
    "- Creación de tablas y volúmenes de datos.\n",
    "- Creación de funciones y modelos."
   ]
  },
  {
   "cell_type": "markdown",
   "metadata": {},
   "source": [
    "#### Creación de catálogos y esquemas"
   ]
  },
  {
   "cell_type": "markdown",
   "metadata": {},
   "source": [
    "En el anterior apartado ya creamos los catálogos de tres ciudades para validar el correcto funcionamiento de la base de datos por lo que procederemos directamente a crear los esquemas correspondientes para la ciudad de Toledo. "
   ]
  },
  {
   "cell_type": "markdown",
   "metadata": {},
   "source": [
    "En nuestro camino para seguir conociendo Unity Catalog y sus capacidades utilizaremos [Apache Spark](https://spark.apache.org/), y en particular [Spark SQL](https://spark.apache.org/sql/), para completar los siguientes pasos. Unity Catalog dispone de capacidad de [integración](https://docs.unitycatalog.io/integrations/unity-catalog-spark/) con este motor de transformación y análisis de datos ampliamente utilizado por la comunidad de ingeniería y ciencia de datos."
   ]
  },
  {
   "cell_type": "markdown",
   "metadata": {},
   "source": [
    "Para poder interactuar con nuestro Unity Catalog a través de Spark SQL debemos disponer de JDK en nuestro PC (ya instalado en la etapa de *Requisitos Previos*) e instalar la librería python PySpark."
   ]
  },
  {
   "cell_type": "markdown",
   "metadata": {},
   "source": [
    "Dado que ya disponemos de un entorno python virtual previamente creado, la instalación de PySpark será muy sencilla:"
   ]
  },
  {
   "cell_type": "code",
   "execution_count": null,
   "metadata": {},
   "outputs": [],
   "source": [
    "%%sh\n",
    "# Instalamos PySpark\n",
    "source python-venv/bin/activate\n",
    "pip install pyspark==3.5.4"
   ]
  },
  {
   "cell_type": "markdown",
   "metadata": {},
   "source": [
    "Con ambos elementos ya instalados, procedemos a crear una aplicación o sesión spark contra la que lanzaremos todos los trabajos que vayamos necesitando (cada una de los comandos SQL para crear elementos como esquemas o tablas, o realizar manipulaciones de datos). No profundizamos aquí en los detalles de este comando más allá de entender que estamos creando una aplicación Spark denominada *uc-sparksql* que trabajará sobre el catálogo *Toledo* accesible en la dirección *http://localhost:8080*, que es donde tenemos habilitado Unity Catalog."
   ]
  },
  {
   "cell_type": "code",
   "execution_count": null,
   "metadata": {},
   "outputs": [],
   "source": [
    "from pyspark.sql import SparkSession\n",
    "\n",
    "spark = (\n",
    "    SparkSession.builder\n",
    "        .appName(\"uc-sparksql\")\n",
    "        .master(\"local[*]\")\n",
    "        .config(\"spark.jars.packages\", \"org.apache.hadoop:hadoop-aws:3.3.4,io.delta:delta-spark_2.12:3.2.1,io.unitycatalog:unitycatalog-spark_2.12:0.2.0\")\n",
    "        .config(\"spark.hadoop.fs.s3.impl\", \"org.apache.hadoop.fs.s3a.S3AFileSystem\")\n",
    "        .config(\"spark.sql.extensions\", \"io.delta.sql.DeltaSparkSessionExtension\")\n",
    "        .config(\"spark.sql.catalog.spark_catalog\", \"io.unitycatalog.spark.UCSingleCatalog\")\n",
    "        .config(\"spark.sql.catalog.Toledo\", \"io.unitycatalog.spark.UCSingleCatalog\")\n",
    "        .config(\"spark.sql.catalog.Toledo.uri\", \"http://localhost:8080\")\n",
    "        .config(\"spark.sql.catalog.Toledo.token\", \"\")\n",
    "        .config(\"spark.sql.defaultCatalog\", \"Toledo\")\n",
    "        .getOrCreate()\n",
    ")\n",
    "\n",
    "spark.sparkContext.setLogLevel(\"ERROR\")"
   ]
  },
  {
   "cell_type": "markdown",
   "metadata": {},
   "source": [
    "A continuación, creamos en el catálogo *Toledo* los esquemas para los servicios *transporte público*, *gestión de residuos* y *alumbrado*."
   ]
  },
  {
   "cell_type": "code",
   "execution_count": null,
   "metadata": {},
   "outputs": [],
   "source": [
    "# Creamos esquemas de diferentes servicios\n",
    "spark.sql(\"CREATE SCHEMA IF NOT EXISTS transporte_publico\")\n",
    "spark.sql(\"CREATE SCHEMA IF NOT EXISTS gestion_residuos\")\n",
    "spark.sql(\"CREATE SCHEMA IF NOT EXISTS alumbrado\")\n",
    "\n",
    "# Mostramos los esquemas creados\n",
    "spark.sql(\"SHOW SCHEMAS\").show()"
   ]
  },
  {
   "cell_type": "markdown",
   "metadata": {},
   "source": [
    "Podemos observar estos esquemas recién creados en el UI de Unity Catalog.\n",
    "\n",
    "![Unity Catalog - UI Schemas](https://github.com/Admindatosgobes/Laboratorio-de-Datos/blob/main/Data%20Science/Unity%20Catalog%3A%20Potenciando%20la%20colaboraci%C3%B3n%20en%20el%20ecosistema%20Data%20e%20IA%20mediante%20c%C3%B3digo%20abierto/Imagenes/uc_ui-schemas.png?raw=true)"
   ]
  },
  {
   "cell_type": "markdown",
   "metadata": {},
   "source": [
    "Vemos como gracias a esta integración podemos trabajar a través de consultas SQL directamente sobre nuestro entorno Unity Catalog."
   ]
  },
  {
   "cell_type": "markdown",
   "metadata": {},
   "source": [
    "#### Creación de tablas y volúmenes"
   ]
  },
  {
   "cell_type": "markdown",
   "metadata": {},
   "source": [
    "A continuación vamos a proceder a crear varias tablas y un volumen dentro de el esquema de transporte público. En primer lugar, suponemos que el servicio de transporte público dispone de las siguientes tablas:"
   ]
  },
  {
   "cell_type": "markdown",
   "metadata": {},
   "source": [
    "- **rutas**: Representa las líneas o recorridos que realizan los autobuses. Campos:\n",
    "    - ruta_id (PK): Identificador único de la ruta (entero).\n",
    "    - nombre: Nombre o código de la ruta (cadena)."
   ]
  },
  {
   "cell_type": "markdown",
   "metadata": {},
   "source": [
    "- **paradas**: Representa las paradas de autobús. Campos:\n",
    "    - parada_id (PK): Identificador único de la parada (entero).\n",
    "    - nombre: Nombre de la parada (cadena).\n",
    "    - lat, lon: Coordenadas de latitud y longitud (decimal). Permiten geolocalizar la parada en el mapa."
   ]
  },
  {
   "cell_type": "markdown",
   "metadata": {},
   "source": [
    "- **rutas_paradas**: Relación entre rutas y paradas.\n",
    "    - ruta_id (FK): Hace referencia a rutas.ruta_id.\n",
    "    - parada_id (FK): Hace referencia a paradas.parada_id.\n",
    "    - parada_orden: Entero que define la secuencia en la que la ruta atiende cada parada (p.ej. 1, 2, 3…)."
   ]
  },
  {
   "cell_type": "markdown",
   "metadata": {},
   "source": [
    "- **autobuses**: Cada uno de los autobuses de la flota. Campos:\n",
    "    - bus_id (PK): Identificador único de autobús (entero).\n",
    "    - matricula: Matrícula del autobús (cadena).\n",
    "    - modelo, marca: Modelo y marca (cadenas).\n",
    "    - capacidad: Capacidad de pasajeros (entero).\n",
    "    - ruta_id (FK opcional): Ruta a la que está asociado."
   ]
  },
  {
   "cell_type": "markdown",
   "metadata": {},
   "source": [
    "Ahora bien, estas tablas junto con sus datos deben estar alojadas en algún repositorio de datos. Como indicamos en el apartado de arquitectura, vamos a habilitar un bucket S3 en AWS donde poder alojar estos datos."
   ]
  },
  {
   "cell_type": "markdown",
   "metadata": {},
   "source": [
    "##### AWS como repositorio de datos"
   ]
  },
  {
   "cell_type": "markdown",
   "metadata": {},
   "source": [
    "Para ello, en primer lugar, creamos una cuenta gratuita en AWS navegando a su [página oficial](https://aws.amazon.com/) y haciendo click en *Cree una cuenta en AWS* en la parte superior derecha. Esto nos llevará a una página de registro donde seguiremos varios pasos indicando nuestra dirección de correo electrónico, nuestra nueva contraseña y nuestros datos personales (nombre, teléfono, dirección...). \n",
    "\n",
    "A pesar de que vamos a utilizar los servicios gratuitos de AWS (*Free Tier*), durante el proceso AWS nos solicitará una tarjeta de crédito para poder confirmar la creación de la cuenta.\n",
    "\n",
    "En la página de nivel de soporte, seleccionaremos el soporte básico gratuito.\n",
    "\n",
    "![AWS - Create account](https://github.com/Admindatosgobes/Laboratorio-de-Datos/blob/main/Data%20Science/Unity%20Catalog%3A%20Potenciando%20la%20colaboraci%C3%B3n%20en%20el%20ecosistema%20Data%20e%20IA%20mediante%20c%C3%B3digo%20abierto/Imagenes/aws_create-account.png?raw=true)"
   ]
  },
  {
   "cell_type": "markdown",
   "metadata": {},
   "source": [
    "Una vez creada la cuenta, volveremos a la [página oficial](https://aws.amazon.com/) de AWS y seleccionaremos esta vez *Iniciar sesión* e introduciremos nuestros datos de inicio de sesión marcando la opción **usuario raíz**.\n",
    "\n",
    "![AWS - Login](https://github.com/Admindatosgobes/Laboratorio-de-Datos/blob/main/Data%20Science/Unity%20Catalog%3A%20Potenciando%20la%20colaboraci%C3%B3n%20en%20el%20ecosistema%20Data%20e%20IA%20mediante%20c%C3%B3digo%20abierto/Imagenes/aws_login.png?raw=true)"
   ]
  },
  {
   "cell_type": "markdown",
   "metadata": {},
   "source": [
    "Una vez en nuestra cuenta, seleccionamos primero la región de trabajo *Europe - Ireland (eu-west-1)* en la esquina superior derecha. Esto indica que los servicios que creemos en nuestra cuenta de AWS se generarán en el conjunto de centros de procesamientos de datos que Amazon ha construido en Irlanda. Posteriormente, en el buscador situado en la parte superior de la pantalla, escribimos *S3* y seleccionamos el servicio correspondiente para acceder al mismo.\n",
    "\n",
    "![AWS - First Steps](https://github.com/Admindatosgobes/Laboratorio-de-Datos/blob/main/Data%20Science/Unity%20Catalog%3A%20Potenciando%20la%20colaboraci%C3%B3n%20en%20el%20ecosistema%20Data%20e%20IA%20mediante%20c%C3%B3digo%20abierto/Imagenes/aws_first-steps.png?raw=true)"
   ]
  },
  {
   "cell_type": "markdown",
   "metadata": {},
   "source": [
    "Una vez en S3, seleccionamos la opción *Create Bucket*, marcamos la opción *General purpose bucket* e introducimos el nombre del mismo. Lo llamaremos *toledo-{varios caracteres aleatorios}* debido a que contendrá los datos de esta ciudad y a que cada bucket debe tener un nombre único en todo AWS. Dejamos el resto de parámetros por defecto y seleccionamos de nuevo *Create Bucket* abajo en la parte final del formulario.\n",
    "\n",
    "![AWS - Create Bucket](https://github.com/Admindatosgobes/Laboratorio-de-Datos/blob/main/Data%20Science/Unity%20Catalog%3A%20Potenciando%20la%20colaboraci%C3%B3n%20en%20el%20ecosistema%20Data%20e%20IA%20mediante%20c%C3%B3digo%20abierto/Imagenes/aws_create-bucket.png?raw=true)"
   ]
  },
  {
   "cell_type": "markdown",
   "metadata": {},
   "source": [
    "Podemos ver nuestro bucket recientemente creado en el servicio S3.\n",
    "\n",
    "![AWS - Bucket Created](https://github.com/Admindatosgobes/Laboratorio-de-Datos/blob/main/Data%20Science/Unity%20Catalog%3A%20Potenciando%20la%20colaboraci%C3%B3n%20en%20el%20ecosistema%20Data%20e%20IA%20mediante%20c%C3%B3digo%20abierto/Imagenes/aws_bucket-created.png?raw=true)"
   ]
  },
  {
   "cell_type": "markdown",
   "metadata": {},
   "source": [
    "Si hacemos click en el nombre del bucket podemos acceder al contenido del mismo. Al entrar, dado que acaba de ser creado, veremos que se encuentra vacío, indicando *Objects(0)* en su parte superior.\n",
    "\n",
    "![AWS - Bucket Objects](https://github.com/Admindatosgobes/Laboratorio-de-Datos/blob/main/Data%20Science/Unity%20Catalog%3A%20Potenciando%20la%20colaboraci%C3%B3n%20en%20el%20ecosistema%20Data%20e%20IA%20mediante%20c%C3%B3digo%20abierto/Imagenes/aws_bucket-objects.png?raw=true)"
   ]
  },
  {
   "cell_type": "markdown",
   "metadata": {},
   "source": [
    "Para que Unity Catalog pueda crear objetos en este bucket, seguiremos los siguientes pasos:\n",
    "- **PASO 1:** Crear un usuario *unity-catalog* en AWS y sus credenciales de acceso (AccessKey y SecretKey).\n",
    "- **PASO 2:** Crear una política con permisos suficientes para que Unity Catalog pueda realizar las acciones necesarias sobre el bucket.\n",
    "- **PASO 3:** Crear un rol que pueda ser asumido por el usuario *unity-catalog* y disponga de los permisos definidos en la anterior política.\n",
    "- **PASO 4:** Configurar los parámetros de conexión en Unity Catalog."
   ]
  },
  {
   "cell_type": "markdown",
   "metadata": {},
   "source": [
    "**PASO 1:**"
   ]
  },
  {
   "cell_type": "markdown",
   "metadata": {},
   "source": [
    "Buscamos y accedemos al servicio AWS IAM (Identity and Access Management) buscándolo en el catálogo de servicios de igual forma que hicimos con AWS S3. Una vez en su pantalla principal, seleccionamos la opción *Users* en el panel izquierdo y *Create User*.\n",
    "\n",
    "![AWS - User Create](https://github.com/Admindatosgobes/Laboratorio-de-Datos/blob/main/Data%20Science/Unity%20Catalog%3A%20Potenciando%20la%20colaboraci%C3%B3n%20en%20el%20ecosistema%20Data%20e%20IA%20mediante%20c%C3%B3digo%20abierto/Imagenes/aws_user-create.png?raw=true)"
   ]
  },
  {
   "cell_type": "markdown",
   "metadata": {},
   "source": [
    "A continuación introducimos su nombre, *unity-catalog*, y pulsamos varias veces en *Next* y finalmente en *Create User* dejando la configuración por defecto."
   ]
  },
  {
   "cell_type": "markdown",
   "metadata": {},
   "source": [
    "Seleccionamos desde la pantalla *Users* el usuario *unity-catalog* recientemente creado. Desde la pantalla detalle del usuario:\n",
    "1. Copiamos su identificador único o ARN (Amazon Resource name) y lo guardamos para más tarde.\n",
    "2. Navegamos a la sección *Security credentials* y seleccionamos la opción *Create access key*.\n",
    "\n",
    "![AWS - User Credentials](https://github.com/Admindatosgobes/Laboratorio-de-Datos/blob/main/Data%20Science/Unity%20Catalog%3A%20Potenciando%20la%20colaboraci%C3%B3n%20en%20el%20ecosistema%20Data%20e%20IA%20mediante%20c%C3%B3digo%20abierto/Imagenes/aws_user-credentials.png?raw=true)"
   ]
  },
  {
   "cell_type": "markdown",
   "metadata": {},
   "source": [
    "En la sección *Use Case* marcamos la opción *Other* y hacemos clic en *Next*. Posteriormente seleccionamos la opción *Create access key* para terminar el proceso de creación. Antes de abandonar esta pantalla, seleccionamos la opción *Donwload .csv* para descargar el fichero que contiene las credenciales de nuestro usuario *unity-catalog*.\n",
    "\n",
    "![AWS - User Credentials](https://github.com/Admindatosgobes/Laboratorio-de-Datos/blob/main/Data%20Science/Unity%20Catalog%3A%20Potenciando%20la%20colaboraci%C3%B3n%20en%20el%20ecosistema%20Data%20e%20IA%20mediante%20c%C3%B3digo%20abierto/Imagenes/aws_user-credentials-download.png?raw=true)"
   ]
  },
  {
   "cell_type": "markdown",
   "metadata": {},
   "source": [
    "**PASO 2:**"
   ]
  },
  {
   "cell_type": "markdown",
   "metadata": {},
   "source": [
    "Ya disponemos de un usuario y de sus credenciales de acceso, ahora debemos garantizar que este usuario dispone de los permisos adecuados para operar con nuestro bucket. Para ello, desde la pantalla principal de IAM, seleccionamos *Policies* en el panel lateral izquierdo y después *Create policy*.\n",
    "\n",
    "A continuación, seleccionamos la edición JSON, en el *Policy editor* y copiamos el siguiente texto que permite acciones clave como crear y obtener objectos de nuestro bucket. **Importante:** En el texto JSON copiado deberás sustituir el nombre del bucket por el del tuyo propio. Después pulsa *Next*.\n",
    "\n",
    "```\n",
    "{\n",
    "    \"Version\": \"2012-10-17\",\n",
    "    \"Statement\": [\n",
    "        {\n",
    "            \"Effect\": \"Allow\",\n",
    "            \"Action\": [\n",
    "                \"s3:ListBucket\",\n",
    "                \"s3:GetBucketLocation\"\n",
    "            ],\n",
    "            \"Resource\": \"arn:aws:s3:::toledo-jk345\"\n",
    "        },\n",
    "        {\n",
    "            \"Effect\": \"Allow\",\n",
    "            \"Action\": [\n",
    "                \"s3:GetObject\",\n",
    "                \"s3:PutObject\",\n",
    "                \"s3:DeleteObject\",\n",
    "                \"s3:AbortMultipartUpload\"\n",
    "            ],\n",
    "            \"Resource\": \"arn:aws:s3:::toledo-jk345/*\"\n",
    "        }\n",
    "    ]\n",
    "}\n",
    "``````\n",
    "\n",
    "![AWS - Policy Create](https://github.com/Admindatosgobes/Laboratorio-de-Datos/blob/main/Data%20Science/Unity%20Catalog%3A%20Potenciando%20la%20colaboraci%C3%B3n%20en%20el%20ecosistema%20Data%20e%20IA%20mediante%20c%C3%B3digo%20abierto/Imagenes/aws_policy-create.png?raw=true)"
   ]
  },
  {
   "cell_type": "markdown",
   "metadata": {},
   "source": [
    "A continuación, especifíca el nombre de la nueva política, *unity-catalog-policy*, y pulsa en *Create policy* para terminar el proceso de creación."
   ]
  },
  {
   "cell_type": "markdown",
   "metadata": {},
   "source": [
    "**PASO 3:**"
   ]
  },
  {
   "cell_type": "markdown",
   "metadata": {},
   "source": [
    "Desde el panel izquierdo de IAM accede a *Roles* y selecciona *Create role*. En el apartado *Trusted entity type* selecciona *Custom trust policy*.\n",
    "\n",
    "En el editor abajo, deberás indicar ``\"AWS\":\"arn:aws:iam::123456789:user/unity-catalog\"``, sustituyendo este ARN por el ARN de tu usuario anteriormente copiado. Lo que le estamos indicando a AWS es que nuestro usuario *unity-catalog* puede asumir el rol que estamos creando.\n",
    "\n",
    "![AWS - Policy Create](https://github.com/Admindatosgobes/Laboratorio-de-Datos/blob/main/Data%20Science/Unity%20Catalog%3A%20Potenciando%20la%20colaboraci%C3%B3n%20en%20el%20ecosistema%20Data%20e%20IA%20mediante%20c%C3%B3digo%20abierto/Imagenes/aws_role-create.png?raw=true)"
   ]
  },
  {
   "cell_type": "markdown",
   "metadata": {},
   "source": [
    "\n",
    "Pulsa *Next* para pasar a la asignación de permisos. Ahora busca la política anteriormente creada, *unity-catalog-policy*, selecciónala y pulsa *Next*.\n",
    "Por último, utiliza *unity-catalog-role* como nombre del nuevo rol y selecciona *Create role* para terminar el proceso.\n",
    "\n",
    "\n",
    "![AWS - Policy Create](https://github.com/Admindatosgobes/Laboratorio-de-Datos/blob/main/Data%20Science/Unity%20Catalog%3A%20Potenciando%20la%20colaboraci%C3%B3n%20en%20el%20ecosistema%20Data%20e%20IA%20mediante%20c%C3%B3digo%20abierto/Imagenes/aws_role-add-permission.png?raw=true)"
   ]
  },
  {
   "cell_type": "markdown",
   "metadata": {},
   "source": [
    "Al igual que antes hicimos con nuestro usuario, debemos ahora guardar el ARN del rol creado. Desde la sección *Roles*, selecciona el rol *unity-catalog-role* recién creado y en su página de detalle copia el ARN del mismo."
   ]
  },
  {
   "cell_type": "markdown",
   "metadata": {},
   "source": [
    "**PASO 4**"
   ]
  },
  {
   "cell_type": "markdown",
   "metadata": {},
   "source": [
    "Tras realizar todas las configuraciones necesarias en AWS, es ahora momento de indicarle a Unity Catalog cómo encontrar y trabajar con nuestro bucket de S3. Para ello, debemos parametrizar el fichero *server.properties* que encontrarás en la carpeta *unitycatalog/etc/conf*."
   ]
  },
  {
   "cell_type": "markdown",
   "metadata": {},
   "source": [
    "Abrimos el fichero con Visual Studio Code (o cualquier otro editor de ficheros de texto) y modificamos los siguientes parámetros de configuración de Unity Catalog:\n",
    "```\n",
    "s3.bucketPath.0=s3://toledo-jk345\n",
    "s3.region.0=eu-west-1\n",
    "s3.awsRoleArn.0=arn:aws:iam::123456789:role/unity-catalog-role\n",
    "s3.accessKey.0=AKIA3...\n",
    "s3.secretKey.0=JIIPWoG...\n",
    "``````\n",
    "\n",
    "Debes tener en cuenta que:\n",
    "- Debes modificar el *bucketPath* indicando el nombre de tu propio bucket.\n",
    "- Debes copiar el ARN de tu rol en *awsRoleArn*.\n",
    "- Encontrarás tu *accessKey* y *secretKey* en el fichero CSV que descargamos cuando configuramos las credenciales de nuestro usuario *unity-catalog*."
   ]
  },
  {
   "cell_type": "markdown",
   "metadata": {},
   "source": [
    "Una vez modificado el archivo y guardado, debemos reiniciar el contenedor para que aplique la nueva configuración."
   ]
  },
  {
   "cell_type": "code",
   "execution_count": null,
   "metadata": {},
   "outputs": [],
   "source": [
    "%%sh\n",
    "docker restart unitycatalog-server-1"
   ]
  },
  {
   "cell_type": "markdown",
   "metadata": {},
   "source": [
    "##### Creación de tablas"
   ]
  },
  {
   "cell_type": "markdown",
   "metadata": {},
   "source": [
    "Vamos a crear ahora cada una de las tablas anteriormente definidas. Para ello, ejecutamos el siguiente código PySpark sustituyendo el valor de la variable *bucket_name* por el nombre de nuestro propio bucket."
   ]
  },
  {
   "cell_type": "code",
   "execution_count": null,
   "metadata": {},
   "outputs": [],
   "source": [
    "bucket_name = \"toledo-jk345\"\n",
    "\n",
    "spark.sql(f\"\"\"\n",
    "CREATE TABLE IF NOT EXISTS transporte_publico.rutas (\n",
    "    ruta_id INT,\n",
    "    nombre STRING\n",
    ")\n",
    "USING DELTA\n",
    "LOCATION 's3://{bucket_name}/transporte_publico/tablas/rutas'\n",
    "\"\"\")\n",
    "\n",
    "spark.sql(f\"\"\"\n",
    "CREATE TABLE IF NOT EXISTS transporte_publico.paradas (\n",
    "    parada_id INT,\n",
    "    nombre STRING,\n",
    "    lat DECIMAL(8,6),\n",
    "    lon DECIMAL(9,6)\n",
    ")\n",
    "USING DELTA\n",
    "LOCATION 's3://{bucket_name}/transporte_publico/tablas/paradas'\n",
    "\"\"\")\n",
    "\n",
    "spark.sql(f\"\"\"\n",
    "CREATE TABLE IF NOT EXISTS transporte_publico.rutas_paradas (\n",
    "    ruta_id INT,\n",
    "    parada_id INT,\n",
    "    parada_orden INT\n",
    ")\n",
    "USING DELTA\n",
    "LOCATION 's3://{bucket_name}/transporte_publico/tablas/rutas_paradas'\n",
    "\"\"\")\n",
    "\n",
    "spark.sql(f\"\"\"\n",
    "CREATE TABLE IF NOT EXISTS transporte_publico.autobuses (\n",
    "    bus_id INT,\n",
    "    matricula STRING,\n",
    "    modelo STRING,\n",
    "    marca STRING,\n",
    "    capacidad INT,\n",
    "    ruta_id INT\n",
    ")\n",
    "USING DELTA\n",
    "LOCATION 's3://{bucket_name}/transporte_publico/tablas/autobuses'\n",
    "\"\"\")"
   ]
  },
  {
   "cell_type": "markdown",
   "metadata": {},
   "source": [
    "Ya podemos ver las tablas creadas en el UI de Unity Catalog, pero aún no observaremos la creación de las mismas en nuestro bucket, ya que por ahora únicamente hemos creado la definición de las mismas y no tienen ningún contenido."
   ]
  },
  {
   "cell_type": "markdown",
   "metadata": {},
   "source": [
    "Cargamos ahora algunos datos de prueba en la tabla autobuses."
   ]
  },
  {
   "cell_type": "code",
   "execution_count": null,
   "metadata": {},
   "outputs": [],
   "source": [
    "spark.sql(\"INSERT INTO Toledo.transporte_publico.autobuses VALUES (1, '4560KLN', 'E-City L12', 'ALFABUS', 88, 91)\")\n",
    "spark.sql(\"INSERT INTO Toledo.transporte_publico.autobuses VALUES (2, '5013KLJ', 'E-City L12', 'ALFABUS', 88, 91)\")\n",
    "spark.sql(\"INSERT INTO Toledo.transporte_publico.autobuses VALUES (3, '9990JOD', 'E-City L12', 'ALFABUS', 88, 92)\")\n",
    "spark.sql(\"INSERT INTO Toledo.transporte_publico.autobuses VALUES (4, '4011LLD', 'i3', 'IRIZAR', 76, 92)\")\n",
    "spark.sql(\"INSERT INTO Toledo.transporte_publico.autobuses VALUES (5, '8800LJK', 'i3', 'IRIZAR', 76, 14)\")\n",
    "spark.sql(\"INSERT INTO Toledo.transporte_publico.autobuses VALUES (6, '1002HVS', 'i3', 'IRIZAR', 76, 14)\")"
   ]
  },
  {
   "cell_type": "markdown",
   "metadata": {},
   "source": [
    "Vemos como efectivamente estos datos han sido correctamente almacenados en la tabla."
   ]
  },
  {
   "cell_type": "code",
   "execution_count": null,
   "metadata": {},
   "outputs": [],
   "source": [
    "spark.sql(\"SELECT * FROM Toledo.transporte_publico.autobuses\").show()"
   ]
  },
  {
   "cell_type": "markdown",
   "metadata": {},
   "source": [
    "Si ahora consultamos el contenido de nuestro bucket en AWS, observaremos lo siguiente.\n",
    "\n",
    "![AWS - Tables](https://github.com/Admindatosgobes/Laboratorio-de-Datos/blob/main/Data%20Science/Unity%20Catalog%3A%20Potenciando%20la%20colaboraci%C3%B3n%20en%20el%20ecosistema%20Data%20e%20IA%20mediante%20c%C3%B3digo%20abierto/Imagenes/aws_tables.png?raw=true)"
   ]
  },
  {
   "cell_type": "markdown",
   "metadata": {},
   "source": [
    "##### Creación de volumen"
   ]
  },
  {
   "cell_type": "markdown",
   "metadata": {},
   "source": [
    "Nuestro caso de uso de transporte público requiere el almacenamiento de los datos de telemetría enviados por los autobuses. Se trata de eventos generados periódicamente por los autobuses que miden aspectos como la ubicación del autobús, el número de pasajeros o el nivel de llenado de combustible (% de su depósito o de su batería, en el caso de eléctricos). Estos eventos se registran en ficheros JSON almacenados en crudo en el bucket de AWS."
   ]
  },
  {
   "cell_type": "markdown",
   "metadata": {},
   "source": [
    "Para ello, en primer lugar creamos el volumen deseado en Unity Catalog utilizando el CLI. Recuerda sustituir el nombre del bucket por el tuyo propio."
   ]
  },
  {
   "cell_type": "code",
   "execution_count": null,
   "metadata": {},
   "outputs": [],
   "source": [
    "%%sh\n",
    "docker exec unitycatalog-server-1 /bin/bash -c \"bin/uc volume create --full_name Toledo.transporte_publico.telemetria --storage_location 's3://toledo-jk345/transporte_publico/volumenes/telemetria'\""
   ]
  },
  {
   "cell_type": "markdown",
   "metadata": {},
   "source": [
    "A continuación, cargamos varios ficheros de ejemplo en el bucket de S3. Para ello, navegamos hasta la ruta *transporte_publico* de nuestro bucket S3 en AWS, y seleccionamos la opción *Upload*.\n",
    "\n",
    "![AWS - Create Volume](https://github.com/Admindatosgobes/Laboratorio-de-Datos/blob/main/Data%20Science/Unity%20Catalog%3A%20Potenciando%20la%20colaboraci%C3%B3n%20en%20el%20ecosistema%20Data%20e%20IA%20mediante%20c%C3%B3digo%20abierto/Imagenes/aws_volume-create.png?raw=true)"
   ]
  },
  {
   "cell_type": "markdown",
   "metadata": {},
   "source": [
    "Ahora, seleccionamos la opción *Add folder* y seleccionamos la carpeta *volumenes* que encontramos dentro de la carpeta *Telemetria* en nuestra carpeta de trabajo. Veremos como se han creado cuatro nuevos ficheros JSON en el volumen *telemetria*.\n",
    "\n",
    "![AWS - Volume Load Files](https://github.com/Admindatosgobes/Laboratorio-de-Datos/blob/main/Data%20Science/Unity%20Catalog%3A%20Potenciando%20la%20colaboraci%C3%B3n%20en%20el%20ecosistema%20Data%20e%20IA%20mediante%20c%C3%B3digo%20abierto/Imagenes/aws_volume-load-files.png?raw=true)"
   ]
  },
  {
   "cell_type": "markdown",
   "metadata": {},
   "source": [
    "Podemos ahora listar los ficheros disponibles dentro de este volumen a través del CLI."
   ]
  },
  {
   "cell_type": "code",
   "execution_count": null,
   "metadata": {},
   "outputs": [],
   "source": [
    "%%sh\n",
    "docker exec unitycatalog-server-1 /bin/bash -c \"bin/uc volume read --full_name Toledo.transporte_publico.telemetria\""
   ]
  },
  {
   "cell_type": "markdown",
   "metadata": {},
   "source": [
    "Y mostrar el contenido de cada uno de ellos indicando el nombre del fichero correspondiente."
   ]
  },
  {
   "cell_type": "code",
   "execution_count": null,
   "metadata": {
    "vscode": {
     "languageId": "shellscript"
    }
   },
   "outputs": [],
   "source": [
    "%%sh\n",
    "docker exec unitycatalog-server-1 /bin/bash -c \"bin/uc volume read --full_name Toledo.transporte_publico.telemetria --path 3_3aef8e84-6b18-42fa-9160-3979f9f6b0ff_1740554060000.json\""
   ]
  },
  {
   "cell_type": "markdown",
   "metadata": {},
   "source": [
    "#### Creación de funciones y modelos"
   ]
  },
  {
   "cell_type": "markdown",
   "metadata": {},
   "source": [
    "Hasta este momento, hemos creado diferentes recursos de datos como tablas y volúmenes gracias a Unity Catalog. En este apartado, pasaremos a registrar otro tipo de recursos como funciones, que nos permiten la reutilización de código, o modelos de *machine learning*."
   ]
  },
  {
   "cell_type": "markdown",
   "metadata": {},
   "source": [
    "##### Funciones"
   ]
  },
  {
   "cell_type": "markdown",
   "metadata": {},
   "source": [
    "Una cálculo de uso recurrente en el mundo del transporte público es el cálculo de distancias entre diferentes ubicaciones. En este apartado crearemos una función python capaz de calcular la distancia en línea recta entre dos pares de coordenadas geográficas y la registraremos en nuestro catálogo."
   ]
  },
  {
   "cell_type": "markdown",
   "metadata": {},
   "source": [
    "A continuación, escribimos la función para poder entender su comportamiento.\n",
    " \n",
    "*Nota: En la versión actual de Unity Catalog no podemos indicar parámetros de tipo FLOAT en sus funciones, de ahí pasar las coordenadas como enteros.*"
   ]
  },
  {
   "cell_type": "code",
   "execution_count": null,
   "metadata": {
    "vscode": {
     "languageId": "shellscript"
    }
   },
   "outputs": [],
   "source": [
    "def haversine_distance(lat1_deg, lon1_deg, lat2_deg, lon2_deg):\n",
    "    import math\n",
    "    R = 6371.0  # Radio de la Tierra en km\n",
    "\n",
    "    # Convertir grados a radianes\n",
    "    lat1 = math.radians(lat1_deg/10000)\n",
    "    lon1 = math.radians(lon1_deg/10000)\n",
    "    lat2 = math.radians(lat2_deg/10000)\n",
    "    lon2 = math.radians(lon2_deg/10000)\n",
    "\n",
    "    # Diferencias\n",
    "    dlat = lat2 - lat1\n",
    "    dlon = lon2 - lon1\n",
    "\n",
    "    # Fórmula del haversine\n",
    "    a = (math.sin(dlat / 2)**2\n",
    "        + math.cos(lat1) * math.cos(lat2) * math.sin(dlon / 2)**2)\n",
    "    c = 2 * math.asin(math.sqrt(a))\n",
    "\n",
    "    distance = round(R * c,3)\n",
    "    return distance\n",
    "\n",
    "print(f\"{haversine_distance(398580, -40203, 398592, -40323)} km\") # Distancia entre el Alcázar de Toledo y la Puerta del Cambrón"
   ]
  },
  {
   "cell_type": "markdown",
   "metadata": {},
   "source": [
    "Ahora, vamos a usar el CLI para registrar esta función en nuestro esquema de transporte público:"
   ]
  },
  {
   "cell_type": "code",
   "execution_count": null,
   "metadata": {},
   "outputs": [],
   "source": [
    "%%sh\n",
    "docker exec unitycatalog-server-1 /bin/bash -c \"bin/uc function create --full_name Toledo.transporte_publico.distancia_haversine --data_type FLOAT --input_params 'lat1_deg int, lon1_deg int, lat2_deg int, lon2_deg int' --language 'python' --def 'import math\\nR = 6371.0  # Radio de la Tierra en km\\n\\n# Convertir grados a radianes\\nlat1 = math.radians(lat1_deg/10000)\\nlon1 = math.radians(lon1_deg/10000)\\nlat2 = math.radians(lat2_deg/10000)\\nlon2 = math.radians(lon2_deg/10000)\\n\\n# Diferencias\\ndlat = lat2 - lat1\\ndlon = lon2 - lon1\\n\\n# Fórmula del haversine\\na = (math.sin(dlat / 2)**2\\n     + math.cos(lat1) * math.cos(lat2) * math.sin(dlon / 2)**2)\\nc = 2 * math.asin(math.sqrt(a))\\n\\ndistance = round(R * c,3)\\nreturn distance'\""
   ]
  },
  {
   "cell_type": "markdown",
   "metadata": {},
   "source": [
    "Podemos ver cómo la función ha sido correctamente registrada en Unity Catalog.\n",
    "\n",
    "![Unity Catalog - Function](https://github.com/Admindatosgobes/Laboratorio-de-Datos/blob/main/Data%20Science/Unity%20Catalog%3A%20Potenciando%20la%20colaboraci%C3%B3n%20en%20el%20ecosistema%20Data%20e%20IA%20mediante%20c%C3%B3digo%20abierto/Imagenes/uc_function.png?raw=true)"
   ]
  },
  {
   "cell_type": "markdown",
   "metadata": {},
   "source": [
    "Además, podemos ejecutarla invocándola desde Unity Catalog con los parámetros correspondientes:"
   ]
  },
  {
   "cell_type": "code",
   "execution_count": null,
   "metadata": {},
   "outputs": [],
   "source": [
    "%%sh\n",
    "docker exec unitycatalog-server-1 /bin/bash -c \"bin/uc function call --full_name Toledo.transporte_publico.distancia_haversine --input_params '398580, -40203, 398592, -40323'\""
   ]
  },
  {
   "cell_type": "markdown",
   "metadata": {},
   "source": [
    "##### Modelos de machine learning"
   ]
  },
  {
   "cell_type": "markdown",
   "metadata": {},
   "source": [
    "El último tipo de recurso que vamos a aprender a gestionar desde Unity Catalog es altamente relevante: modelos de machine learning."
   ]
  },
  {
   "cell_type": "markdown",
   "metadata": {},
   "source": [
    "Para ello, primero instalaremos una serie de librerías que serán necesarias: *mlflow*, para el registro del modelo, y *pandas* y *scikit-learn*, para la construcción del modelo."
   ]
  },
  {
   "cell_type": "code",
   "execution_count": null,
   "metadata": {},
   "outputs": [],
   "source": [
    "%%sh\n",
    "source python-venv/bin/activate\n",
    "pip install mlflow==2.20.1\n",
    "pip install pandas==2.2.3\n",
    "pip install scikit-learn==1.6.1"
   ]
  },
  {
   "cell_type": "markdown",
   "metadata": {},
   "source": [
    "A continuación, arrancamos un servidor local de *mlflow* en nuestro PC ejecutando los siguientes comandos en un terminal abierto en nuestra carpeta de trabajo.\n",
    "\n",
    "```\n",
    "source python-venv/bin/activate\n",
    "mlflow ui\n",
    "```\n",
    "\n",
    "![MLFlow - Start](https://github.com/Admindatosgobes/Laboratorio-de-Datos/blob/main/Data%20Science/Unity%20Catalog%3A%20Potenciando%20la%20colaboraci%C3%B3n%20en%20el%20ecosistema%20Data%20e%20IA%20mediante%20c%C3%B3digo%20abierto/Imagenes/mlflow_start.png?raw=true)"
   ]
  },
  {
   "cell_type": "markdown",
   "metadata": {},
   "source": [
    "Ahora, crearemos un modelo de ejemplo para demostrar la capacidad de Unity Catalog para registrar y gestionar este tipo de recurso de datos en su catálogo. En este caso, utlizaremos a modo demostrativo el modelo que encontramos en la [documentación oficial](https://docs.unitycatalog.io/usage/models/) y que, aunque no está relacionado con la temática del post, Transporte Público, nos permitirá entender los pasos a seguir para realizar esta tarea. Nombraremos a este modelo **prediccion_tiempo_siguiente_parada** simulando que se trata de un modelo que sería capaz de determinar para un autobús el tiempo restante para alcanzar la próxima parada de su ruta. "
   ]
  },
  {
   "cell_type": "code",
   "execution_count": null,
   "metadata": {},
   "outputs": [],
   "source": [
    "import mlflow\n",
    "import os\n",
    "from sklearn import datasets\n",
    "from sklearn.ensemble import RandomForestClassifier\n",
    "from sklearn.model_selection import train_test_split\n",
    "import pandas as pd\n",
    "\n",
    "#Parametrizamos direcciones de servidor MlFlow y servidor Unity Catalog\n",
    "mlflow.set_tracking_uri(\"http://127.0.0.1:5000\")\n",
    "mlflow.set_registry_uri(\"uc:http://127.0.0.1:8080\")\n",
    "\n",
    "# Generamos nuestro modelo de machine learning, en este caso, de tipo RandomForestClassifier, y lo registramos.\n",
    "X, y = datasets.load_iris(return_X_y=True, as_frame=True)\n",
    "X_train, X_test, y_train, y_test = train_test_split(X, y, test_size=0.2, random_state=42)\n",
    "\n",
    "# Entrenamos el modelo y lo registramos en el catálogo, suponemos que predice el tiempo hasta la siguiente parada\n",
    "with mlflow.start_run():\n",
    "    clf = RandomForestClassifier(max_depth=7)\n",
    "    clf.fit(X_train, y_train)\n",
    "    input_example = X_train.iloc[[0]]\n",
    "    mlflow.sklearn.log_model(\n",
    "        sk_model=clf,\n",
    "        artifact_path=\"model\",\n",
    "        input_example=input_example,\n",
    "        registered_model_name=\"Toledo.transporte_publico.prediccion_tiempo_siguiente_parada\",\n",
    "    )"
   ]
  },
  {
   "cell_type": "markdown",
   "metadata": {},
   "source": [
    "Podemos ver como la versión 1 de este modelo ha sido correctamente catalogada.\n",
    "\n",
    "![Unity Catalog - Model](https://github.com/Admindatosgobes/Laboratorio-de-Datos/blob/main/Data%20Science/Unity%20Catalog%3A%20Potenciando%20la%20colaboraci%C3%B3n%20en%20el%20ecosistema%20Data%20e%20IA%20mediante%20c%C3%B3digo%20abierto/Imagenes/uc_model.png?raw=true)"
   ]
  },
  {
   "cell_type": "markdown",
   "metadata": {},
   "source": [
    "Ahora, invocamos el modelo ya registrado en Unity Catalog y realizamos una predicción."
   ]
  },
  {
   "cell_type": "code",
   "execution_count": null,
   "metadata": {},
   "outputs": [],
   "source": [
    "loaded_model = mlflow.pyfunc.load_model(f\"models:/Toledo.transporte_publico.prediccion_tiempo_siguiente_parada/1\")\n",
    "predictions = loaded_model.predict(X_test)\n",
    "iris_feature_names = datasets.load_iris().feature_names\n",
    "result = pd.DataFrame(X_test, columns=iris_feature_names)\n",
    "result[\"actual_class\"] = y_test\n",
    "result[\"predicted_class\"] = predictions\n",
    "result[:4]"
   ]
  },
  {
   "cell_type": "markdown",
   "metadata": {},
   "source": [
    "## Resultados y conclusiones"
   ]
  },
  {
   "cell_type": "markdown",
   "metadata": {},
   "source": [
    "Como resultado de este laboratorio prático, hemos podido conocer la herramienta Unity Catalog como plataforma abierta para la gobernanza de datos y recursos de datos como modelos de *machine learning*. Hemos podido conocer en el contexto de un caso de uso concreto y con un ecosistema de herramientas similar al que podemos encontrar en una organización real, sus capacidades, su modo de despliegue y su uso.\n",
    "\n",
    "Veremos en los próximos años si este tipo de herramientas alcanzan el nivel de estandarización necesario para transformar la forma en que se administran y comparten los recursos de datos en múltiples sectores."
   ]
  }
 ],
 "metadata": {
  "kernelspec": {
   "display_name": "python-venv",
   "language": "python",
   "name": "python3"
  },
  "language_info": {
   "codemirror_mode": {
    "name": "ipython",
    "version": 3
   },
   "file_extension": ".py",
   "mimetype": "text/x-python",
   "name": "python",
   "nbconvert_exporter": "python",
   "pygments_lexer": "ipython3",
   "version": "3.13.1"
  }
 },
 "nbformat": 4,
 "nbformat_minor": 4
}
